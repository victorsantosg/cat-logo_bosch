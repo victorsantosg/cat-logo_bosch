{
 "cells": [
  {
   "cell_type": "code",
   "execution_count": 12,
   "id": "67a2fd72",
   "metadata": {},
   "outputs": [
    {
     "name": "stdout",
     "output_type": "stream",
     "text": [
      "Tabelas encontradas: 626\n"
     ]
    },
    {
     "data": {
      "text/html": [
       "<div>\n",
       "<style scoped>\n",
       "    .dataframe tbody tr th:only-of-type {\n",
       "        vertical-align: middle;\n",
       "    }\n",
       "\n",
       "    .dataframe tbody tr th {\n",
       "        vertical-align: top;\n",
       "    }\n",
       "\n",
       "    .dataframe thead th {\n",
       "        text-align: right;\n",
       "    }\n",
       "</style>\n",
       "<table border=\"1\" class=\"dataframe\">\n",
       "  <thead>\n",
       "    <tr style=\"text-align: right;\">\n",
       "      <th></th>\n",
       "      <th>0</th>\n",
       "      <th>1</th>\n",
       "    </tr>\n",
       "  </thead>\n",
       "  <tbody>\n",
       "    <tr>\n",
       "      <th>0</th>\n",
       "      <td></td>\n",
       "      <td>1</td>\n",
       "    </tr>\n",
       "    <tr>\n",
       "      <th>1</th>\n",
       "      <td>REF</td>\n",
       "      <td>MODELE</td>\n",
       "    </tr>\n",
       "    <tr>\n",
       "      <th>2</th>\n",
       "      <td>0261100000</td>\n",
       "      <td>EPC</td>\n",
       "    </tr>\n",
       "    <tr>\n",
       "      <th>3</th>\n",
       "      <td>0261200001</td>\n",
       "      <td>ML1</td>\n",
       "    </tr>\n",
       "    <tr>\n",
       "      <th>4</th>\n",
       "      <td>0261200002</td>\n",
       "      <td>ML1</td>\n",
       "    </tr>\n",
       "  </tbody>\n",
       "</table>\n",
       "</div>"
      ],
      "text/plain": [
       "            0       1\n",
       "0                   1\n",
       "1         REF  MODELE\n",
       "2  0261100000     EPC\n",
       "3  0261200001     ML1\n",
       "4  0261200002     ML1"
      ]
     },
     "metadata": {},
     "output_type": "display_data"
    }
   ],
   "source": [
    "# import camelot\n",
    "\n",
    "# # 1️⃣ Extrai tabelas do PDF\n",
    "# tabelas = camelot.read_pdf(\"1760559804.pdf\", pages=\"all\")\n",
    "\n",
    "# # 2️⃣ Pega a primeira tabela\n",
    "# df = tabelas[0].df  # df é um pandas.DataFrame\n",
    "\n",
    "# # 3️⃣ Normaliza os nomes das colunas\n",
    "# df.columns = df.iloc[0]\n",
    "# df = df.drop(0).reset_index(drop=True)\n",
    "\n",
    "# # 4️⃣ Filtra colunas e linhas desejadas\n",
    "# df_filtrado = df[['Veículo', 'ECU modelo', 'New Trasdata Plugin', 'Protocolo New Genius']]\n",
    "\n",
    "# # 5️⃣ Exporta ou usa como quiser\n",
    "# df_filtrado.to_csv('saida.csv', index=False)\n",
    "\n",
    "import camelot\n",
    "\n",
    "tabelas = camelot.read_pdf(\"Numeros_Bosch.pdf\", pages=\"all\", flavor=\"stream\")\n",
    "print(\"Tabelas encontradas:\", tabelas.n)\n",
    "\n",
    "if tabelas.n > 0:\n",
    "    df = tabelas[0].df\n",
    "    display(df.head())\n",
    "else:\n",
    "    display(\"Nenhuma tabela detectada.\")\n",
    "\n",
    "\n"
   ]
  },
  {
   "cell_type": "code",
   "execution_count": 21,
   "id": "ca4ac7fc",
   "metadata": {},
   "outputs": [
    {
     "name": "stdout",
     "output_type": "stream",
     "text": [
      "Tabelas encontradas: 626\n",
      "✅ Arquivo 'dados_filtrados_bosch.csv' gerado com sucesso! (38151 linhas válidas)\n",
      "\n",
      "📋 Primeiras linhas:\n",
      " num_bosch modelo_ecu\n",
      "0261100000        EPC\n",
      "0261200001        ML1\n",
      "0261200002        ML1\n",
      "0261200004      ML1.1\n",
      "0261200006      ML1.1\n",
      "0261200007        ML1\n",
      "0261200008        ML1\n",
      "0261200011        ML2\n",
      "0261200012        ML1\n",
      "0261200013      ML1.3\n"
     ]
    }
   ],
   "source": [
    "import camelot\n",
    "import pandas as pd\n",
    "\n",
    "# 1️⃣ Extrai todas as tabelas do PDF\n",
    "tabelas = camelot.read_pdf(\"Numeros_Bosch.pdf\", pages=\"all\", flavor=\"stream\")\n",
    "\n",
    "print(f\"Tabelas encontradas: {tabelas.n}\")\n",
    "if tabelas.n == 0:\n",
    "    raise ValueError(\"Nenhuma tabela detectada no PDF.\")\n",
    "\n",
    "# 2️⃣ Junta todas as tabelas\n",
    "df_total = pd.concat([t.df for t in tabelas], ignore_index=True)\n",
    "\n",
    "# 3️⃣ Define cabeçalho correto (linha 1)\n",
    "df_total.columns = df_total.iloc[1]  # Linha com \"REF\" e \"MODELE\"\n",
    "df_total = df_total[2:]  # Remove as duas primeiras linhas inúteis\n",
    "\n",
    "# 4️⃣ Mantém apenas colunas desejadas\n",
    "df_filtrado = df_total[[\"REF\", \"MODELE\"]].copy()\n",
    "df_filtrado.columns = [\"num_bosch\", \"modelo_ecu\"]\n",
    "\n",
    "# 5️⃣ Limpa linhas vazias e duplicadas\n",
    "df_filtrado = df_filtrado.dropna().drop_duplicates()\n",
    "\n",
    "# 6️⃣ Exporta\n",
    "df_filtrado.to_csv(\"dados_filtrados_bosch.csv\", index=False, encoding=\"utf-8-sig\")\n",
    "\n",
    "# 7️⃣ Mostra resultado\n",
    "print(f\"✅ Arquivo 'dados_filtrados_bosch.csv' gerado com sucesso! ({len(df_filtrado)} linhas válidas)\\n\")\n",
    "print(\"📋 Primeiras linhas:\")\n",
    "print(df_filtrado.head(10).to_string(index=False))\n",
    "\n",
    "\n",
    "\n"
   ]
  },
  {
   "cell_type": "code",
   "execution_count": 22,
   "id": "4868d7bc",
   "metadata": {},
   "outputs": [
    {
     "name": "stdout",
     "output_type": "stream",
     "text": [
      "1          REF MODELE\n",
      "2   0261100000    EPC\n",
      "3   0261200001    ML1\n",
      "4   0261200002    ML1\n",
      "5   0261200004  ML1.1\n",
      "6   0261200006  ML1.1\n",
      "7   0261200007    ML1\n",
      "8   0261200008    ML1\n",
      "9   0261200011    ML2\n",
      "10  0261200012    ML1\n",
      "11  0261200013  ML1.3\n"
     ]
    }
   ],
   "source": [
    "print(df_total.head(10))\n",
    "\n"
   ]
  }
 ],
 "metadata": {
  "kernelspec": {
   "display_name": "Python 3",
   "language": "python",
   "name": "python3"
  },
  "language_info": {
   "codemirror_mode": {
    "name": "ipython",
    "version": 3
   },
   "file_extension": ".py",
   "mimetype": "text/x-python",
   "name": "python",
   "nbconvert_exporter": "python",
   "pygments_lexer": "ipython3",
   "version": "3.12.3"
  }
 },
 "nbformat": 4,
 "nbformat_minor": 5
}
